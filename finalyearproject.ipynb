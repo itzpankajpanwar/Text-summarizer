{
  "nbformat": 4,
  "nbformat_minor": 0,
  "metadata": {
    "colab": {
      "name": "finalyearproject",
      "provenance": [],
      "collapsed_sections": [],
      "mount_file_id": "1eshR3Edqjyy9dIH4n4EMWsAVvsQ_5nky",
      "authorship_tag": "ABX9TyO1LI0c3n026KQN0Gqd1f8h",
      "include_colab_link": true
    },
    "kernelspec": {
      "name": "python3",
      "display_name": "Python 3"
    },
    "accelerator": "GPU"
  },
  "cells": [
    {
      "cell_type": "markdown",
      "metadata": {
        "id": "view-in-github",
        "colab_type": "text"
      },
      "source": [
        "<a href=\"https://colab.research.google.com/github/itzpankajpanwar/Text-summarizer/blob/main/finalyearproject.ipynb\" target=\"_parent\"><img src=\"https://colab.research.google.com/assets/colab-badge.svg\" alt=\"Open In Colab\"/></a>"
      ]
    },
    {
      "cell_type": "markdown",
      "metadata": {
        "id": "juTU9ecSRFh-"
      },
      "source": [
        "# **Project Title : Text Summarization Using Deep Learning**\n",
        "\n",
        "# **Mentor : Sharwan Ram Sir**"
      ]
    },
    {
      "cell_type": "markdown",
      "metadata": {
        "id": "zY2PZrbwR5Hr"
      },
      "source": [
        "**Team Members :**\n",
        "\n",
        "**1.   Pankaj Panwar       CSE**\n",
        "\n",
        "**2.   Akshay Kumar          IT**\n",
        "\n",
        "**3. Harshil Jangid          CSE**\n",
        "\n",
        "\n"
      ]
    },
    {
      "cell_type": "markdown",
      "metadata": {
        "id": "IIpVBoczQeH7"
      },
      "source": [
        "start day : 20 june 2020\n",
        "\n"
      ]
    },
    {
      "cell_type": "markdown",
      "metadata": {
        "id": "bBjAVS6hTYtn"
      },
      "source": [
        " \n",
        "# **step 1: Import all Required Libraries**\n",
        "all libraries directly copied from seq2seq model lecture additional required libries can be added afterwords"
      ]
    },
    {
      "cell_type": "code",
      "metadata": {
        "id": "XY4VsW03VaSe",
        "colab": {
          "base_uri": "https://localhost:8080/",
          "height": 187
        },
        "outputId": "22304142-d81d-41bb-cb04-a75cb7753e62"
      },
      "source": [
        "pip install keras-attention"
      ],
      "execution_count": null,
      "outputs": [
        {
          "output_type": "stream",
          "text": [
            "Collecting keras-attention\n",
            "  Downloading https://files.pythonhosted.org/packages/9a/e9/1373dff1b2dd7cb45208d224c84d7a2bddcf0519f01d98f07d8ce15dc4be/keras_attention-1.0.0-py3-none-any.whl\n",
            "Requirement already satisfied: keras in /usr/local/lib/python3.6/dist-packages (from keras-attention) (2.4.3)\n",
            "Requirement already satisfied: scipy>=0.14 in /usr/local/lib/python3.6/dist-packages (from keras->keras-attention) (1.4.1)\n",
            "Requirement already satisfied: pyyaml in /usr/local/lib/python3.6/dist-packages (from keras->keras-attention) (3.13)\n",
            "Requirement already satisfied: numpy>=1.9.1 in /usr/local/lib/python3.6/dist-packages (from keras->keras-attention) (1.18.5)\n",
            "Requirement already satisfied: h5py in /usr/local/lib/python3.6/dist-packages (from keras->keras-attention) (2.10.0)\n",
            "Requirement already satisfied: six in /usr/local/lib/python3.6/dist-packages (from h5py->keras->keras-attention) (1.15.0)\n",
            "Installing collected packages: keras-attention\n",
            "Successfully installed keras-attention-1.0.0\n"
          ],
          "name": "stdout"
        }
      ]
    },
    {
      "cell_type": "markdown",
      "metadata": {
        "id": "JSR3EKWZN4sb"
      },
      "source": [
        ""
      ]
    },
    {
      "cell_type": "code",
      "metadata": {
        "id": "4APC0kd5RE9v"
      },
      "source": [
        ""
      ],
      "execution_count": null,
      "outputs": []
    },
    {
      "cell_type": "markdown",
      "metadata": {
        "id": "faF7Pm3cl40c"
      },
      "source": [
        "from attention import AttentionLayer"
      ]
    },
    {
      "cell_type": "markdown",
      "metadata": {
        "id": "wcRO6sBtN4Uj"
      },
      "source": [
        ""
      ]
    },
    {
      "cell_type": "code",
      "metadata": {
        "id": "cNEHleyIV9Ys"
      },
      "source": [
        "import numpy as np\n",
        "import pandas as pd \n",
        "from keras.preprocessing.text import Tokenizer \n",
        "from keras.preprocessing.sequence import pad_sequences\n",
        "from nltk.corpus import stopwords\n",
        "from tensorflow.keras.layers import Input, LSTM, Embedding, Dense, Concatenate, TimeDistributed\n",
        "from tensorflow.keras.models import Model\n",
        "from tensorflow.keras.callbacks import EarlyStopping\n",
        "import warnings\n",
        "pd.set_option(\"display.max_colwidth\", 200)\n",
        "warnings.filterwarnings(\"ignore\")"
      ],
      "execution_count": null,
      "outputs": []
    },
    {
      "cell_type": "markdown",
      "metadata": {
        "id": "oX-hNmfYzv1I"
      },
      "source": [
        "\n",
        "# **step 2: upload dataset and mount to google drive**"
      ]
    },
    {
      "cell_type": "code",
      "metadata": {
        "id": "sogY_MA6RO5u"
      },
      "source": [
        ""
      ],
      "execution_count": null,
      "outputs": []
    },
    {
      "cell_type": "code",
      "metadata": {
        "id": "7QrroJVk2wZV",
        "colab": {
          "base_uri": "https://localhost:8080/",
          "height": 34
        },
        "outputId": "2b7908ca-da26-4d39-ac01-38ac48f237d7"
      },
      "source": [
        "from google.colab import drive\n",
        "drive.mount('/content/drive')"
      ],
      "execution_count": null,
      "outputs": [
        {
          "output_type": "stream",
          "text": [
            "Drive already mounted at /content/drive; to attempt to forcibly remount, call drive.mount(\"/content/drive\", force_remount=True).\n"
          ],
          "name": "stdout"
        }
      ]
    },
    {
      "cell_type": "code",
      "metadata": {
        "id": "vll4F59N3IbQ"
      },
      "source": [
        " \n",
        "data = pd.read_csv(\"/content/drive/My Drive/amazondata/Reviews.csv\",nrows=500000) "
      ],
      "execution_count": null,
      "outputs": []
    },
    {
      "cell_type": "markdown",
      "metadata": {
        "id": "-lz4sDuu_7W-"
      },
      "source": [
        "finally data is successfully taken , \n",
        "for now i am taking only 100000 rows so that its easy to train and process\n",
        "\n",
        "**Note**: i should have to use complete dataset before final submission"
      ]
    },
    {
      "cell_type": "markdown",
      "metadata": {
        "id": "IedZgM2sAhLA"
      },
      "source": [
        "# **Step 3: Preprocessing Data**\n",
        "\n",
        "days 2: 21 june\n",
        "\n",
        "target for day\n",
        "\n",
        "1.   remove duplicate\n",
        "2.   remove NA values\n",
        "3.   convert complete dataset to lowercase\n",
        "4.   remove all html tags\n",
        "5.   parenthesis\n",
        "6.   remove stopwords.\n",
        "7.   remove shortwords\n",
        "8.   remove punctuations\n",
        "9.   remove special characters\n",
        "\n",
        "probelm : how to handle contradiction\n",
        "\n",
        "\n",
        "\n",
        "\n"
      ]
    },
    {
      "cell_type": "code",
      "metadata": {
        "id": "W_TNNCS3-84M"
      },
      "source": [
        "\n",
        "data.drop_duplicates(subset=['Text'],inplace=True)\n",
        "#data.drop(axis=0,inplace=True)\n",
        "#  not working \n",
        "#     \n",
        "# note:dropna function will work\n",
        "data.dropna(axis=0,inplace=True)"
      ],
      "execution_count": null,
      "outputs": []
    },
    {
      "cell_type": "code",
      "metadata": {
        "id": "07fN4XXh_Brn",
        "colab": {
          "base_uri": "https://localhost:8080/",
          "height": 306
        },
        "outputId": "ced20ec1-1396-499e-fe84-77a154961787"
      },
      "source": [
        "\n",
        "data.info()\n"
      ],
      "execution_count": null,
      "outputs": [
        {
          "output_type": "stream",
          "text": [
            "<class 'pandas.core.frame.DataFrame'>\n",
            "Int64Index: 352713 entries, 0 to 499998\n",
            "Data columns (total 10 columns):\n",
            " #   Column                  Non-Null Count   Dtype \n",
            "---  ------                  --------------   ----- \n",
            " 0   Id                      352713 non-null  int64 \n",
            " 1   ProductId               352713 non-null  object\n",
            " 2   UserId                  352713 non-null  object\n",
            " 3   ProfileName             352713 non-null  object\n",
            " 4   HelpfulnessNumerator    352713 non-null  int64 \n",
            " 5   HelpfulnessDenominator  352713 non-null  int64 \n",
            " 6   Score                   352713 non-null  int64 \n",
            " 7   Time                    352713 non-null  int64 \n",
            " 8   Summary                 352713 non-null  object\n",
            " 9   Text                    352713 non-null  object\n",
            "dtypes: int64(5), object(5)\n",
            "memory usage: 29.6+ MB\n"
          ],
          "name": "stdout"
        }
      ]
    },
    {
      "cell_type": "markdown",
      "metadata": {
        "id": "oCbJOsJg69Cg"
      },
      "source": [
        "# contradictioin mapping \n",
        "directly copied from stackoverflow\n",
        "\n",
        "**source: stackoverflow contradiction mapping**\n"
      ]
    },
    {
      "cell_type": "code",
      "metadata": {
        "id": "NY_VO02d6wSC"
      },
      "source": [
        "\n",
        "contraction_mapping = {\"ain't\": \"is not\", \"aren't\": \"are not\",\"can't\": \"cannot\", \"'cause\": \"because\", \"could've\": \"could have\", \"couldn't\": \"could not\",\n",
        "                           \"didn't\": \"did not\",  \"doesn't\": \"does not\", \"don't\": \"do not\", \"hadn't\": \"had not\", \"hasn't\": \"has not\", \"haven't\": \"have not\",\n",
        "                           \"he'd\": \"he would\",\"he'll\": \"he will\", \"he's\": \"he is\", \"how'd\": \"how did\", \"how'd'y\": \"how do you\", \"how'll\": \"how will\", \"how's\": \"how is\",\n",
        "                           \"I'd\": \"I would\", \"I'd've\": \"I would have\", \"I'll\": \"I will\", \"I'll've\": \"I will have\",\"I'm\": \"I am\", \"I've\": \"I have\", \"i'd\": \"i would\",\n",
        "                           \"i'd've\": \"i would have\", \"i'll\": \"i will\",  \"i'll've\": \"i will have\",\"i'm\": \"i am\", \"i've\": \"i have\", \"isn't\": \"is not\", \"it'd\": \"it would\",\n",
        "                           \"it'd've\": \"it would have\", \"it'll\": \"it will\", \"it'll've\": \"it will have\",\"it's\": \"it is\", \"let's\": \"let us\", \"ma'am\": \"madam\",\n",
        "                           \"mayn't\": \"may not\", \"might've\": \"might have\",\"mightn't\": \"might not\",\"mightn't've\": \"might not have\", \"must've\": \"must have\",\n",
        "                           \"mustn't\": \"must not\", \"mustn't've\": \"must not have\", \"needn't\": \"need not\", \"needn't've\": \"need not have\",\"o'clock\": \"of the clock\",\n",
        "                           \"oughtn't\": \"ought not\", \"oughtn't've\": \"ought not have\", \"shan't\": \"shall not\", \"sha'n't\": \"shall not\", \"shan't've\": \"shall not have\",\n",
        "                           \"she'd\": \"she would\", \"she'd've\": \"she would have\", \"she'll\": \"she will\", \"she'll've\": \"she will have\", \"she's\": \"she is\",\n",
        "                           \"should've\": \"should have\", \"shouldn't\": \"should not\", \"shouldn't've\": \"should not have\", \"so've\": \"so have\",\"so's\": \"so as\",\n",
        "                           \"this's\": \"this is\",\"that'd\": \"that would\", \"that'd've\": \"that would have\", \"that's\": \"that is\", \"there'd\": \"there would\",\n",
        "                           \"there'd've\": \"there would have\", \"there's\": \"there is\", \"here's\": \"here is\",\"they'd\": \"they would\", \"they'd've\": \"they would have\",\n",
        "                           \"they'll\": \"they will\", \"they'll've\": \"they will have\", \"they're\": \"they are\", \"they've\": \"they have\", \"to've\": \"to have\",\n",
        "                           \"wasn't\": \"was not\", \"we'd\": \"we would\", \"we'd've\": \"we would have\", \"we'll\": \"we will\", \"we'll've\": \"we will have\", \"we're\": \"we are\",\n",
        "                           \"we've\": \"we have\", \"weren't\": \"were not\", \"what'll\": \"what will\", \"what'll've\": \"what will have\", \"what're\": \"what are\",\n",
        "                           \"what's\": \"what is\", \"what've\": \"what have\", \"when's\": \"when is\", \"when've\": \"when have\", \"where'd\": \"where did\", \"where's\": \"where is\",\n",
        "                           \"where've\": \"where have\", \"who'll\": \"who will\", \"who'll've\": \"who will have\", \"who's\": \"who is\", \"who've\": \"who have\",\n",
        "                           \"why's\": \"why is\", \"why've\": \"why have\", \"will've\": \"will have\", \"won't\": \"will not\", \"won't've\": \"will not have\",\n",
        "                           \"would've\": \"would have\", \"wouldn't\": \"would not\", \"wouldn't've\": \"would not have\", \"y'all\": \"you all\",\n",
        "                           \"y'all'd\": \"you all would\",\"y'all'd've\": \"you all would have\",\"y'all're\": \"you all are\",\"y'all've\": \"you all have\",\n",
        "                           \"you'd\": \"you would\", \"you'd've\": \"you would have\", \"you'll\": \"you will\", \"you'll've\": \"you will have\",\n",
        "                           \"you're\": \"you are\", \"you've\": \"you have\"}"
      ],
      "execution_count": null,
      "outputs": []
    },
    {
      "cell_type": "markdown",
      "metadata": {
        "id": "TaGSyiGu7QyS"
      },
      "source": [
        "# Text cleaning function\n"
      ]
    },
    {
      "cell_type": "code",
      "metadata": {
        "id": "EAKf7PuZ_bmF"
      },
      "source": [
        "#  from nltk.corpus import stopwords"
      ],
      "execution_count": null,
      "outputs": []
    },
    {
      "cell_type": "markdown",
      "metadata": {
        "id": "AmPng1_tAv7R"
      },
      "source": [
        "#error\n",
        "from nltk.corpus import stopwords not working\n",
        "\n",
        "dont no why\n"
      ]
    },
    {
      "cell_type": "markdown",
      "metadata": {
        "id": "v0xIkr0U_bRx"
      },
      "source": [
        "#solution \n",
        "i have to manually downlaod stopwords\n",
        "\n",
        "solution from stackoverflow\n",
        "[reference link](https://stackoverflow.com/questions/47485687/nameerror-name-stopwords-is-not-defined)\n"
      ]
    },
    {
      "cell_type": "code",
      "metadata": {
        "id": "sDYJCrdU8X8k",
        "colab": {
          "base_uri": "https://localhost:8080/",
          "height": 68
        },
        "outputId": "ca592c9e-1865-41fa-eb87-5b1b73f57f9b"
      },
      "source": [
        "import nltk\n",
        "nltk.download('stopwords')\n"
      ],
      "execution_count": null,
      "outputs": [
        {
          "output_type": "stream",
          "text": [
            "[nltk_data] Downloading package stopwords to /root/nltk_data...\n",
            "[nltk_data]   Unzipping corpora/stopwords.zip.\n"
          ],
          "name": "stdout"
        },
        {
          "output_type": "execute_result",
          "data": {
            "text/plain": [
              "True"
            ]
          },
          "metadata": {
            "tags": []
          },
          "execution_count": 10
        }
      ]
    },
    {
      "cell_type": "markdown",
      "metadata": {
        "id": "pBZ51OWdByor"
      },
      "source": [
        "# Must see to understand below function \n",
        "[beautifulsoup](http://zetcode.com/python/beautifulsoup/)\n",
        "[beautiful soup](https://www.w3resource.com/python-exercises/BeautifulSoup/python-beautifulsoup-exercise-30.php)\n",
        "\n",
        "all regular operation related operations using re\n",
        "[regular exp](https://docs.python.org/3/library/re.html)\n"
      ]
    },
    {
      "cell_type": "code",
      "metadata": {
        "id": "GmbBEmUb7V08"
      },
      "source": [
        "stop_words = set(stopwords.words('english')) \n",
        "\n",
        "def text_cleaner(text,num):\n",
        "    newString = text.lower()\n",
        "    newString = BeautifulSoup(newString, \"lxml\").text\n",
        "    newString = re.sub(r'\\([^)]*\\)', '', newString)\n",
        "    newString = re.sub('\"','', newString)\n",
        "    newString = ' '.join([contraction_mapping[t] if t in contraction_mapping else t for t in newString.split(\" \")])    \n",
        "    newString = re.sub(r\"'s\\b\",\"\",newString)\n",
        "    newString = re.sub(\"[^a-zA-Z]\", \" \", newString) \n",
        "    newString = re.sub('[m]{2,}', 'mm', newString)\n",
        "    if(num==0):\n",
        "        tokens = [w for w in newString.split() if not w in stop_words]\n",
        "    else:\n",
        "        tokens=newString.split()\n",
        "        \n",
        "    long_words=[]\n",
        "    for i in tokens:\n",
        "        if len(i)>1:                                                 \n",
        "            long_words.append(i)   \n",
        "    return (\" \".join(long_words)).strip()"
      ],
      "execution_count": null,
      "outputs": []
    },
    {
      "cell_type": "markdown",
      "metadata": {
        "id": "zTZMjwjx8pC6"
      },
      "source": [
        "implement this function on complete text\n"
      ]
    },
    {
      "cell_type": "code",
      "metadata": {
        "id": "wpYHZ9HV8_ni"
      },
      "source": [
        "from bs4 import BeautifulSoup\n",
        "import re"
      ],
      "execution_count": null,
      "outputs": []
    },
    {
      "cell_type": "code",
      "metadata": {
        "id": "lqUtJA2x8osy"
      },
      "source": [
        "cleaned_text = []\n",
        "for t in data['Text']:\n",
        "    cleaned_text.append(text_cleaner(t,0))"
      ],
      "execution_count": null,
      "outputs": []
    },
    {
      "cell_type": "markdown",
      "metadata": {
        "id": "_g2PdCyqDEmb"
      },
      "source": [
        "#this is how now cleaned text look like\n",
        "just checking 8 rows "
      ]
    },
    {
      "cell_type": "code",
      "metadata": {
        "id": "4hzuI5w09Wxr",
        "colab": {
          "base_uri": "https://localhost:8080/",
          "height": 173
        },
        "outputId": "dfadfc4f-4a9f-4594-d193-b70c12f9d1d5"
      },
      "source": [
        "cleaned_text[:8]"
      ],
      "execution_count": null,
      "outputs": [
        {
          "output_type": "execute_result",
          "data": {
            "text/plain": [
              "['bought several vitality canned dog food products found good quality product looks like stew processed meat smells better labrador finicky appreciates product better',\n",
              " 'product arrived labeled jumbo salted peanuts peanuts actually small sized unsalted sure error vendor intended represent product jumbo',\n",
              " 'confection around centuries light pillowy citrus gelatin nuts case filberts cut tiny squares liberally coated powdered sugar tiny mouthful heaven chewy flavorful highly recommend yummy treat familiar story lewis lion witch wardrobe treat seduces edmund selling brother sisters witch',\n",
              " 'looking secret ingredient robitussin believe found got addition root beer extract ordered made cherry soda flavor medicinal',\n",
              " 'great taffy great price wide assortment yummy taffy delivery quick taffy lover deal',\n",
              " 'got wild hair taffy ordered five pound bag taffy enjoyable many flavors watermelon root beer melon peppermint grape etc complaint bit much red black licorice flavored pieces kids husband lasted two weeks would recommend brand taffy delightful treat',\n",
              " 'saltwater taffy great flavors soft chewy candy individually wrapped well none candies stuck together happen expensive version fralinger would highly recommend candy served beach themed party everyone loved',\n",
              " 'taffy good soft chewy flavors amazing would definitely recommend buying satisfying']"
            ]
          },
          "metadata": {
            "tags": []
          },
          "execution_count": 14
        }
      ]
    },
    {
      "cell_type": "code",
      "metadata": {
        "id": "gGV8IEkgWNDk"
      },
      "source": [
        "#call the function\n",
        "cleaned_summary = []\n",
        "for t in data['Summary']:\n",
        "    cleaned_summary.append(text_cleaner(t,1))"
      ],
      "execution_count": null,
      "outputs": []
    },
    {
      "cell_type": "markdown",
      "metadata": {
        "id": "tR6E44WSH_C_"
      },
      "source": [
        "# cleaned summary "
      ]
    },
    {
      "cell_type": "code",
      "metadata": {
        "id": "VDIY1u7GWP5_",
        "colab": {
          "base_uri": "https://localhost:8080/",
          "height": 187
        },
        "outputId": "45fb0234-8059-4634-b98b-53c66eea49d9"
      },
      "source": [
        "cleaned_summary[40:50]"
      ],
      "execution_count": null,
      "outputs": [
        {
          "output_type": "execute_result",
          "data": {
            "text/plain": [
              "['oatmeal for oatmeal lovers',\n",
              " 'food great',\n",
              " 'good hot breakfast',\n",
              " 'great taste and convenience',\n",
              " 'hearty oatmeal',\n",
              " 'good',\n",
              " 'mushy',\n",
              " 'very good but next time will not order the variety pack',\n",
              " 'same stuff',\n",
              " 'do not like it']"
            ]
          },
          "metadata": {
            "tags": []
          },
          "execution_count": 16
        }
      ]
    },
    {
      "cell_type": "code",
      "metadata": {
        "id": "Hvpu8ObDXOgb"
      },
      "source": [
        "data['cleaned_text']=cleaned_text\n",
        "data['cleaned_summary']=cleaned_summary"
      ],
      "execution_count": null,
      "outputs": []
    },
    {
      "cell_type": "code",
      "metadata": {
        "id": "YFdIOIYKWwAO"
      },
      "source": [
        "\n",
        "data.replace('', np.nan, inplace=True)\n",
        "data.dropna(axis=0,inplace=True)"
      ],
      "execution_count": null,
      "outputs": []
    },
    {
      "cell_type": "markdown",
      "metadata": {
        "id": "E2s8u3fWIOck"
      },
      "source": [
        "DIS"
      ]
    },
    {
      "cell_type": "markdown",
      "metadata": {
        "id": "Pag0L9zjJSLr"
      },
      "source": [
        "# plotting length of text and summary "
      ]
    },
    {
      "cell_type": "code",
      "metadata": {
        "id": "KTbx3bByWztI",
        "colab": {
          "base_uri": "https://localhost:8080/",
          "height": 281
        },
        "outputId": "77b12a27-769a-4f31-ae80-971e4f469d5b"
      },
      "source": [
        "import matplotlib.pyplot as plt\n",
        "\n",
        "text_word_count = []\n",
        "summary_word_count = []\n",
        "\n",
        "# populate the lists with sentence lengths\n",
        "for i in data['cleaned_text']:\n",
        "      text_word_count.append(len(i.split()))\n",
        "\n",
        "for i in data['cleaned_summary']:\n",
        "      summary_word_count.append(len(i.split()))\n",
        "\n",
        "length_df = pd.DataFrame({'text':text_word_count, 'summary':summary_word_count})\n",
        "\n",
        "length_df.hist(bins = 30)\n",
        "plt.show()"
      ],
      "execution_count": null,
      "outputs": [
        {
          "output_type": "display_data",
          "data": {
            "image/png": "[encoded data removed]",
            "text/plain": [
              "<Figure size 432x288 with 2 Axes>"
            ]
          },
          "metadata": {
            "tags": [],
            "needs_background": "light"
          }
        }
      ]
    },
    {
      "cell_type": "code",
      "metadata": {
        "id": "jESmawFMXduk",
        "colab": {
          "base_uri": "https://localhost:8080/",
          "height": 34
        },
        "outputId": "83629727-d26a-4c3b-eac0-5c0db1f86f3c"
      },
      "source": [
        "cnt=0\n",
        "for i in data['cleaned_summary']:\n",
        "    if(len(i.split())<=8):\n",
        "        cnt=cnt+1\n",
        "print(cnt/len(data['cleaned_summary']))"
      ],
      "execution_count": null,
      "outputs": [
        {
          "output_type": "stream",
          "text": [
            "0.9456357955851431\n"
          ],
          "name": "stdout"
        }
      ]
    },
    {
      "cell_type": "markdown",
      "metadata": {
        "id": "wfrt8nCyJbt3"
      },
      "source": [
        ""
      ]
    },
    {
      "cell_type": "code",
      "metadata": {
        "id": "QFPKXxR5XiaI"
      },
      "source": [
        "max_text_len=30\n",
        "max_summary_len=8"
      ],
      "execution_count": null,
      "outputs": []
    },
    {
      "cell_type": "code",
      "metadata": {
        "id": "1O_2cle7XjT5"
      },
      "source": [
        "cleaned_text =np.array(data['cleaned_text'])\n",
        "cleaned_summary=np.array(data['cleaned_summary'])\n",
        "\n",
        "short_text=[]\n",
        "short_summary=[]\n",
        "\n",
        "for i in range(len(cleaned_text)):\n",
        "    if(len(cleaned_summary[i].split())<=max_summary_len and len(cleaned_text[i].split())<=max_text_len):\n",
        "        short_text.append(cleaned_text[i])\n",
        "        short_summary.append(cleaned_summary[i])\n",
        "        \n",
        "df=pd.DataFrame({'text':short_text,'summary':short_summary})"
      ],
      "execution_count": null,
      "outputs": []
    },
    {
      "cell_type": "code",
      "metadata": {
        "id": "KTvtcp65If87"
      },
      "source": [
        ""
      ],
      "execution_count": null,
      "outputs": []
    },
    {
      "cell_type": "markdown",
      "metadata": {
        "id": "M5QSxmqGIfOF"
      },
      "source": [
        "# addind start and end tokens \n",
        "sostok=start of sequence \n",
        "\n",
        "eostok =endof sequence\n",
        "\n",
        "NOTE: here i assume that no sentence does contains this \"sostok\" and \"postok\"\n",
        "\n"
      ]
    },
    {
      "cell_type": "code",
      "metadata": {
        "id": "2xu3hbNSXxI1"
      },
      "source": [
        "df['summary'] = df['summary'].apply(lambda x : 'sostok '+ x + ' eostok')\n"
      ],
      "execution_count": null,
      "outputs": []
    },
    {
      "cell_type": "code",
      "metadata": {
        "id": "JL_ISMp9X5bz"
      },
      "source": [
        "from sklearn.model_selection import train_test_split\n",
        "x_tr,x_val,y_tr,y_val=train_test_split(np.array(df['text']),np.array(df['summary']),test_size=0.1,random_state=0,shuffle=True)"
      ],
      "execution_count": null,
      "outputs": []
    },
    {
      "cell_type": "markdown",
      "metadata": {
        "id": "Cq1U1D0oNbKO"
      },
      "source": [
        "# Tokenizer Building"
      ]
    },
    {
      "cell_type": "code",
      "metadata": {
        "id": "0S2Xb3kRX8OY"
      },
      "source": [
        "from keras.preprocessing.text import Tokenizer \n",
        "from keras.preprocessing.sequence import pad_sequences\n",
        "\n",
        "#prepare a tokenizer for reviews on training data\n",
        "x_tokenizer = Tokenizer() \n",
        "x_tokenizer.fit_on_texts(list(x_tr))"
      ],
      "execution_count": null,
      "outputs": []
    },
    {
      "cell_type": "code",
      "metadata": {
        "id": "stm5Wq8YX-ta",
        "colab": {
          "base_uri": "https://localhost:8080/",
          "height": 51
        },
        "outputId": "f6180455-5a5b-40b7-fe48-8f47f616f936"
      },
      "source": [
        "thresh=4\n",
        "\n",
        "cnt=0\n",
        "tot_cnt=0\n",
        "freq=0\n",
        "tot_freq=0\n",
        "\n",
        "for key,value in x_tokenizer.word_counts.items():\n",
        "    tot_cnt=tot_cnt+1\n",
        "    tot_freq=tot_freq+value\n",
        "    if(value<thresh):\n",
        "        cnt=cnt+1\n",
        "        freq=freq+value\n",
        "    \n",
        "print(\"% of rare words in vocabulary:\",(cnt/tot_cnt)*100)\n",
        "print(\"Total Coverage of rare words:\",(freq/tot_freq)*100)"
      ],
      "execution_count": null,
      "outputs": [
        {
          "output_type": "stream",
          "text": [
            "% of rare words in vocabulary: 67.68920907893717\n",
            "Total Coverage of rare words: 1.5090593294873658\n"
          ],
          "name": "stdout"
        }
      ]
    },
    {
      "cell_type": "code",
      "metadata": {
        "id": "4EawTS5TYBoR"
      },
      "source": [
        "#prepare a tokenizer for reviews on training data\n",
        "x_tokenizer = Tokenizer(num_words=tot_cnt-cnt) \n",
        "x_tokenizer.fit_on_texts(list(x_tr))\n",
        "\n",
        "#convert text sequences into integer sequences\n",
        "x_tr_seq    =   x_tokenizer.texts_to_sequences(x_tr) \n",
        "x_val_seq   =   x_tokenizer.texts_to_sequences(x_val)\n",
        "\n",
        "#padding zero upto maximum length\n",
        "x_tr    =   pad_sequences(x_tr_seq,  maxlen=max_text_len, padding='post')\n",
        "x_val   =   pad_sequences(x_val_seq, maxlen=max_text_len, padding='post')\n",
        "\n",
        "#size of vocabulary ( +1 for padding token)\n",
        "x_voc   =  x_tokenizer.num_words + 1"
      ],
      "execution_count": null,
      "outputs": []
    },
    {
      "cell_type": "code",
      "metadata": {
        "id": "Bj1zJREqYEh0"
      },
      "source": [
        "#prepare a tokenizer for reviews on training data\n",
        "y_tokenizer = Tokenizer()   \n",
        "y_tokenizer.fit_on_texts(list(y_tr))"
      ],
      "execution_count": null,
      "outputs": []
    },
    {
      "cell_type": "code",
      "metadata": {
        "id": "cY3jvdUBYOkv",
        "colab": {
          "base_uri": "https://localhost:8080/",
          "height": 51
        },
        "outputId": "509aebd8-2780-42fa-9db2-4898015baa54"
      },
      "source": [
        "thresh=6\n",
        "\n",
        "cnt=0\n",
        "tot_cnt=0\n",
        "freq=0\n",
        "tot_freq=0\n",
        "\n",
        "for key,value in y_tokenizer.word_counts.items():\n",
        "    tot_cnt=tot_cnt+1\n",
        "    tot_freq=tot_freq+value\n",
        "    if(value<thresh):\n",
        "        cnt=cnt+1\n",
        "        freq=freq+value\n",
        "    \n",
        "print(\"% of rare words in vocabulary:\",(cnt/tot_cnt)*100)\n",
        "print(\"Total Coverage of rare words:\",(freq/tot_freq)*100)"
      ],
      "execution_count": null,
      "outputs": [
        {
          "output_type": "stream",
          "text": [
            "% of rare words in vocabulary: 76.1792934449663\n",
            "Total Coverage of rare words: 2.735001836169195\n"
          ],
          "name": "stdout"
        }
      ]
    },
    {
      "cell_type": "code",
      "metadata": {
        "id": "ATme9r8ZYZ3d"
      },
      "source": [
        "\n",
        "#prepare a tokenizer for reviews on training data\n",
        "y_tokenizer = Tokenizer(num_words=tot_cnt-cnt) \n",
        "y_tokenizer.fit_on_texts(list(y_tr))\n",
        "\n",
        "#convert text sequences into integer sequences\n",
        "y_tr_seq    =   y_tokenizer.texts_to_sequences(y_tr) \n",
        "y_val_seq   =   y_tokenizer.texts_to_sequences(y_val) \n",
        "\n",
        "#padding zero upto maximum length\n",
        "y_tr    =   pad_sequences(y_tr_seq, maxlen=max_summary_len, padding='post')\n",
        "y_val   =   pad_sequences(y_val_seq, maxlen=max_summary_len, padding='post')\n",
        "\n",
        "#size of vocabulary\n",
        "y_voc  =   y_tokenizer.num_words +1"
      ],
      "execution_count": null,
      "outputs": []
    },
    {
      "cell_type": "code",
      "metadata": {
        "id": "FlxGcuyOYciz",
        "colab": {
          "base_uri": "https://localhost:8080/",
          "height": 34
        },
        "outputId": "09b552d9-677c-411f-e712-5b86af341988"
      },
      "source": [
        "y_tokenizer.word_counts['sostok'],len(y_tr)\n"
      ],
      "execution_count": null,
      "outputs": [
        {
          "output_type": "execute_result",
          "data": {
            "text/plain": [
              "(172082, 172082)"
            ]
          },
          "metadata": {
            "tags": []
          },
          "execution_count": 31
        }
      ]
    },
    {
      "cell_type": "code",
      "metadata": {
        "id": "-3a70K3qYfXk"
      },
      "source": [
        "ind=[]\n",
        "for i in range(len(y_tr)):\n",
        "    cnt=0\n",
        "    for j in y_tr[i]:\n",
        "        if j!=0:\n",
        "            cnt=cnt+1\n",
        "    if(cnt==2):\n",
        "        ind.append(i)\n",
        "\n",
        "y_tr=np.delete(y_tr,ind, axis=0)\n",
        "x_tr=np.delete(x_tr,ind, axis=0)"
      ],
      "execution_count": null,
      "outputs": []
    },
    {
      "cell_type": "code",
      "metadata": {
        "id": "BDQj2jz-Yh-1"
      },
      "source": [
        "ind=[]\n",
        "for i in range(len(y_val)):\n",
        "    cnt=0\n",
        "    for j in y_val[i]:\n",
        "        if j!=0:\n",
        "            cnt=cnt+1\n",
        "    if(cnt==2):\n",
        "        ind.append(i)\n",
        "\n",
        "y_val=np.delete(y_val,ind, axis=0)\n",
        "x_val=np.delete(x_val,ind, axis=0)"
      ],
      "execution_count": null,
      "outputs": []
    },
    {
      "cell_type": "code",
      "metadata": {
        "id": "t01yU4jEeBtB"
      },
      "source": [
        ""
      ],
      "execution_count": null,
      "outputs": []
    },
    {
      "cell_type": "markdown",
      "metadata": {
        "id": "6SaIk2BRYjA-"
      },
      "source": [
        "MAIN MODEL\n"
      ]
    },
    {
      "cell_type": "code",
      "metadata": {
        "id": "XIkmZwGfeCjj"
      },
      "source": [
        "#from tensorflow.keras.layers import Attention\n",
        "#from tenserflow.keras_self_attention import SeqSelfAttention, SeqWeightedAttention\n",
        "#!pip search AttentionLayer\n",
        "#ModuleNotFoundError: No module named 'attention_keras'\n",
        "#from tensorflow.keras.layers.Attention import AttentionLayer\n",
        "#!pip install keras-self-attention\n",
        "#from keras_self_attention import SeqSelfAttentio\n"
      ],
      "execution_count": null,
      "outputs": []
    },
    {
      "cell_type": "markdown",
      "metadata": {
        "id": "IRcU5avsJY3y"
      },
      "source": [
        "attention layer \n",
        "keras inbuilt attention mechnism doesnt work\n",
        "\n",
        "> Indented block\n",
        "\n",
        "\n",
        "cant find proer attention mechanism \n",
        "so i used this implementation \n",
        "\n",
        "here is the link for attention layer github file\n",
        "\n",
        "link: https://github.com/thushv89/attention_keras"
      ]
    },
    {
      "cell_type": "code",
      "metadata": {
        "id": "2d2pXVy5IrN7"
      },
      "source": [
        "\n",
        "import tensorflow as tf\n",
        "import os\n",
        "from tensorflow.python.keras.layers import Layer\n",
        "from tensorflow.python.keras import backend as K\n",
        "\n",
        "\n",
        "class AttentionLayer(Layer):\n",
        "    \"\"\"\n",
        "    This class implements Bahdanau attention (https://arxiv.org/pdf/1409.0473.pdf).\n",
        "    There are three sets of weights introduced W_a, U_a, and V_a\n",
        "     \"\"\"\n",
        "\n",
        "    def __init__(self, **kwargs):\n",
        "        super(AttentionLayer, self).__init__(**kwargs)\n",
        "\n",
        "    def build(self, input_shape):\n",
        "        assert isinstance(input_shape, list)\n",
        "        # Create a trainable weight variable for this layer.\n",
        "\n",
        "        self.W_a = self.add_weight(name='W_a',\n",
        "                                   shape=tf.TensorShape((input_shape[0][2], input_shape[0][2])),\n",
        "                                   initializer='uniform',\n",
        "                                   trainable=True)\n",
        "        self.U_a = self.add_weight(name='U_a',\n",
        "                                   shape=tf.TensorShape((input_shape[1][2], input_shape[0][2])),\n",
        "                                   initializer='uniform',\n",
        "                                   trainable=True)\n",
        "        self.V_a = self.add_weight(name='V_a',\n",
        "                                   shape=tf.TensorShape((input_shape[0][2], 1)),\n",
        "                                   initializer='uniform',\n",
        "                                   trainable=True)\n",
        "\n",
        "        super(AttentionLayer, self).build(input_shape)  # Be sure to call this at the end\n",
        "\n",
        "    def call(self, inputs, verbose=False):\n",
        "        \"\"\"\n",
        "        inputs: [encoder_output_sequence, decoder_output_sequence]\n",
        "        \"\"\"\n",
        "        assert type(inputs) == list\n",
        "        encoder_out_seq, decoder_out_seq = inputs\n",
        "        if verbose:\n",
        "            print('encoder_out_seq>', encoder_out_seq.shape)\n",
        "            print('decoder_out_seq>', decoder_out_seq.shape)\n",
        "\n",
        "        def energy_step(inputs, states):\n",
        "            \"\"\" Step function for computing energy for a single decoder state\n",
        "            inputs: (batchsize * 1 * de_in_dim)\n",
        "            states: (batchsize * 1 * de_latent_dim)\n",
        "            \"\"\"\n",
        "\n",
        "            assert_msg = \"States must be an iterable. Got {} of type {}\".format(states, type(states))\n",
        "            assert isinstance(states, list) or isinstance(states, tuple), assert_msg\n",
        "\n",
        "            \"\"\" Some parameters required for shaping tensors\"\"\"\n",
        "            en_seq_len, en_hidden = encoder_out_seq.shape[1], encoder_out_seq.shape[2]\n",
        "            de_hidden = inputs.shape[-1]\n",
        "\n",
        "            \"\"\" Computing S.Wa where S=[s0, s1, ..., si]\"\"\"\n",
        "            # <= batch size * en_seq_len * latent_dim\n",
        "            W_a_dot_s = K.dot(encoder_out_seq, self.W_a)\n",
        "\n",
        "            \"\"\" Computing hj.Ua \"\"\"\n",
        "            U_a_dot_h = K.expand_dims(K.dot(inputs, self.U_a), 1)  # <= batch_size, 1, latent_dim\n",
        "            if verbose:\n",
        "                print('Ua.h>', U_a_dot_h.shape)\n",
        "\n",
        "            \"\"\" tanh(S.Wa + hj.Ua) \"\"\"\n",
        "            # <= batch_size*en_seq_len, latent_dim\n",
        "            Ws_plus_Uh = K.tanh(W_a_dot_s + U_a_dot_h)\n",
        "            if verbose:\n",
        "                print('Ws+Uh>', Ws_plus_Uh.shape)\n",
        "\n",
        "            \"\"\" softmax(va.tanh(S.Wa + hj.Ua)) \"\"\"\n",
        "            # <= batch_size, en_seq_len\n",
        "            e_i = K.squeeze(K.dot(Ws_plus_Uh, self.V_a), axis=-1)\n",
        "            # <= batch_size, en_seq_len\n",
        "            e_i = K.softmax(e_i)\n",
        "\n",
        "            if verbose:\n",
        "                print('ei>', e_i.shape)\n",
        "\n",
        "            return e_i, [e_i]\n",
        "\n",
        "        def context_step(inputs, states):\n",
        "            \"\"\" Step function for computing ci using ei \"\"\"\n",
        "\n",
        "            assert_msg = \"States must be an iterable. Got {} of type {}\".format(states, type(states))\n",
        "            assert isinstance(states, list) or isinstance(states, tuple), assert_msg\n",
        "\n",
        "            # <= batch_size, hidden_size\n",
        "            c_i = K.sum(encoder_out_seq * K.expand_dims(inputs, -1), axis=1)\n",
        "            if verbose:\n",
        "                print('ci>', c_i.shape)\n",
        "            return c_i, [c_i]\n",
        "\n",
        "        fake_state_c = K.sum(encoder_out_seq, axis=1)\n",
        "        fake_state_e = K.sum(encoder_out_seq, axis=2)  # <= (batch_size, enc_seq_len, latent_dim\n",
        "\n",
        "        \"\"\" Computing energy outputs \"\"\"\n",
        "        # e_outputs => (batch_size, de_seq_len, en_seq_len)\n",
        "        last_out, e_outputs, _ = K.rnn(\n",
        "            energy_step, decoder_out_seq, [fake_state_e],\n",
        "        )\n",
        "\n",
        "        \"\"\" Computing context vectors \"\"\"\n",
        "        last_out, c_outputs, _ = K.rnn(\n",
        "            context_step, e_outputs, [fake_state_c],\n",
        "        )\n",
        "\n",
        "        return c_outputs, e_outputs\n",
        "\n",
        "    def compute_output_shape(self, input_shape):\n",
        "        \"\"\" Outputs produced by the layer \"\"\"\n",
        "        return [\n",
        "            tf.TensorShape((input_shape[1][0], input_shape[1][1], input_shape[1][2])),\n",
        "            tf.TensorShape((input_shape[1][0], input_shape[1][1], input_shape[0][1]))\n",
        "        ]"
      ],
      "execution_count": null,
      "outputs": []
    },
    {
      "cell_type": "code",
      "metadata": {
        "id": "uEHxclrKYqyQ",
        "colab": {
          "base_uri": "https://localhost:8080/",
          "height": 683
        },
        "outputId": "0f251295-6fca-4a16-a763-d61e94b00483"
      },
      "source": [
        "from keras import backend as K \n",
        "K.clear_session()\n",
        "\n",
        "latent_dim = 300\n",
        "embedding_dim=100\n",
        "\n",
        "# Encoder\n",
        "encoder_inputs = Input(shape=(max_text_len,))\n",
        "\n",
        "#embedding layer\n",
        "enc_emb =  Embedding(x_voc, embedding_dim,trainable=True)(encoder_inputs)\n",
        "\n",
        "#encoder lstm 1\n",
        "encoder_lstm1 = LSTM(latent_dim,return_sequences=True,return_state=True,dropout=0.4,recurrent_dropout=0.4)\n",
        "encoder_output1, state_h1, state_c1 = encoder_lstm1(enc_emb)\n",
        "\n",
        "#encoder lstm 2\n",
        "encoder_lstm2 = LSTM(latent_dim,return_sequences=True,return_state=True,dropout=0.4,recurrent_dropout=0.4)\n",
        "encoder_output2, state_h2, state_c2 = encoder_lstm2(encoder_output1)\n",
        "\n",
        "#encoder lstm 3\n",
        "encoder_lstm3=LSTM(latent_dim, return_state=True, return_sequences=True,dropout=0.4,recurrent_dropout=0.4)\n",
        "encoder_outputs, state_h, state_c= encoder_lstm3(encoder_output2)\n",
        "\n",
        "# Set up the decoder, using `encoder_states` as initial state.\n",
        "decoder_inputs = Input(shape=(None,))\n",
        "\n",
        "#embedding layer\n",
        "dec_emb_layer = Embedding(y_voc, embedding_dim,trainable=True)\n",
        "dec_emb = dec_emb_layer(decoder_inputs)\n",
        "\n",
        "decoder_lstm = LSTM(latent_dim, return_sequences=True, return_state=True,dropout=0.4,recurrent_dropout=0.2)\n",
        "decoder_outputs,decoder_fwd_state, decoder_back_state = decoder_lstm(dec_emb,initial_state=[state_h, state_c])\n",
        "\n",
        "# Attention layer\n",
        "attn_layer = AttentionLayer(name='attention_layer')\n",
        "attn_out, attn_states = attn_layer([encoder_outputs, decoder_outputs])\n",
        "\n",
        "# Concat attention input and decoder LSTM output\n",
        "decoder_concat_input = Concatenate(axis=-1, name='concat_layer')([decoder_outputs, attn_out])\n",
        "\n",
        "#dense layer\n",
        "decoder_dense =  TimeDistributed(Dense(y_voc, activation='softmax'))\n",
        "decoder_outputs = decoder_dense(decoder_concat_input)\n",
        "\n",
        "# Define the model \n",
        "model = Model([encoder_inputs, decoder_inputs], decoder_outputs)\n",
        "\n",
        "model.summary()"
      ],
      "execution_count": null,
      "outputs": [
        {
          "output_type": "stream",
          "text": [
            "WARNING:tensorflow:Layer lstm will not use cuDNN kernel since it doesn't meet the cuDNN kernel criteria. It will use generic GPU kernel as fallback when running on GPU\n",
            "WARNING:tensorflow:Layer lstm_1 will not use cuDNN kernel since it doesn't meet the cuDNN kernel criteria. It will use generic GPU kernel as fallback when running on GPU\n",
            "WARNING:tensorflow:Layer lstm_2 will not use cuDNN kernel since it doesn't meet the cuDNN kernel criteria. It will use generic GPU kernel as fallback when running on GPU\n",
            "WARNING:tensorflow:Layer lstm_3 will not use cuDNN kernel since it doesn't meet the cuDNN kernel criteria. It will use generic GPU kernel as fallback when running on GPU\n",
            "Model: \"functional_1\"\n",
            "__________________________________________________________________________________________________\n",
            "Layer (type)                    Output Shape         Param #     Connected to                     \n",
            "==================================================================================================\n",
            "input_1 (InputLayer)            [(None, 30)]         0                                            \n",
            "__________________________________________________________________________________________________\n",
            "embedding (Embedding)           (None, 30, 100)      1668500     input_1[0][0]                    \n",
            "__________________________________________________________________________________________________\n",
            "lstm (LSTM)                     [(None, 30, 300), (N 481200      embedding[0][0]                  \n",
            "__________________________________________________________________________________________________\n",
            "input_2 (InputLayer)            [(None, None)]       0                                            \n",
            "__________________________________________________________________________________________________\n",
            "lstm_1 (LSTM)                   [(None, 30, 300), (N 721200      lstm[0][0]                       \n",
            "__________________________________________________________________________________________________\n",
            "embedding_1 (Embedding)         (None, None, 100)    466700      input_2[0][0]                    \n",
            "__________________________________________________________________________________________________\n",
            "lstm_2 (LSTM)                   [(None, 30, 300), (N 721200      lstm_1[0][0]                     \n",
            "__________________________________________________________________________________________________\n",
            "lstm_3 (LSTM)                   [(None, None, 300),  481200      embedding_1[0][0]                \n",
            "                                                                 lstm_2[0][1]                     \n",
            "                                                                 lstm_2[0][2]                     \n",
            "__________________________________________________________________________________________________\n",
            "attention_layer (AttentionLayer ((None, None, 300),  180300      lstm_2[0][0]                     \n",
            "                                                                 lstm_3[0][0]                     \n",
            "__________________________________________________________________________________________________\n",
            "concat_layer (Concatenate)      (None, None, 600)    0           lstm_3[0][0]                     \n",
            "                                                                 attention_layer[0][0]            \n",
            "__________________________________________________________________________________________________\n",
            "time_distributed (TimeDistribut (None, None, 4667)   2804867     concat_layer[0][0]               \n",
            "==================================================================================================\n",
            "Total params: 7,525,167\n",
            "Trainable params: 7,525,167\n",
            "Non-trainable params: 0\n",
            "__________________________________________________________________________________________________\n"
          ],
          "name": "stdout"
        }
      ]
    },
    {
      "cell_type": "code",
      "metadata": {
        "id": "cZeFEWr1Yy8f"
      },
      "source": [
        "\n",
        "model.compile(optimizer='rmsprop', loss='sparse_categorical_crossentropy')"
      ],
      "execution_count": null,
      "outputs": []
    },
    {
      "cell_type": "code",
      "metadata": {
        "id": "fjp_E-hEY4dd"
      },
      "source": [
        "es = EarlyStopping(monitor='val_loss', mode='min', verbose=1,patience=2)"
      ],
      "execution_count": null,
      "outputs": []
    },
    {
      "cell_type": "code",
      "metadata": {
        "id": "OuMaiabkY72j",
        "colab": {
          "base_uri": "https://localhost:8080/",
          "height": 680
        },
        "outputId": "de4a473f-0855-4ccb-fd70-18d98c7525a3"
      },
      "source": [
        "history=model.fit([x_tr,y_tr[:,:-1]], y_tr.reshape(y_tr.shape[0],y_tr.shape[1], 1)[:,1:] ,epochs=50,callbacks=[es],batch_size=512, validation_data=([x_val,y_val[:,:-1]], y_val.reshape(y_val.shape[0],y_val.shape[1], 1)[:,1:]))\n"
      ],
      "execution_count": null,
      "outputs": [
        {
          "output_type": "stream",
          "text": [
            "Epoch 1/50\n",
            "331/331 [==============================] - 193s 582ms/step - loss: 2.9829 - val_loss: 2.6874\n",
            "Epoch 2/50\n",
            "331/331 [==============================] - 192s 580ms/step - loss: 2.5650 - val_loss: 2.4338\n",
            "Epoch 3/50\n",
            "331/331 [==============================] - 193s 582ms/step - loss: 2.3711 - val_loss: 2.3043\n",
            "Epoch 4/50\n",
            "331/331 [==============================] - 196s 591ms/step - loss: 2.2545 - val_loss: 2.2213\n",
            "Epoch 5/50\n",
            "331/331 [==============================] - 195s 588ms/step - loss: 2.1708 - val_loss: 2.1609\n",
            "Epoch 6/50\n",
            "331/331 [==============================] - 196s 591ms/step - loss: 2.1051 - val_loss: 2.1207\n",
            "Epoch 7/50\n",
            "331/331 [==============================] - 197s 596ms/step - loss: 2.0502 - val_loss: 2.0842\n",
            "Epoch 8/50\n",
            "331/331 [==============================] - 199s 602ms/step - loss: 2.0039 - val_loss: 2.0571\n",
            "Epoch 9/50\n",
            "331/331 [==============================] - 197s 596ms/step - loss: 1.9657 - val_loss: 2.0369\n",
            "Epoch 10/50\n",
            "331/331 [==============================] - 197s 596ms/step - loss: 1.9309 - val_loss: 2.0255\n",
            "Epoch 11/50\n",
            "331/331 [==============================] - 198s 598ms/step - loss: 1.9002 - val_loss: 2.0096\n",
            "Epoch 12/50\n",
            "331/331 [==============================] - 194s 585ms/step - loss: 1.8742 - val_loss: 2.0037\n",
            "Epoch 13/50\n",
            "331/331 [==============================] - 192s 581ms/step - loss: 1.8488 - val_loss: 1.9949\n",
            "Epoch 14/50\n",
            "331/331 [==============================] - 193s 584ms/step - loss: 1.8265 - val_loss: 1.9865\n",
            "Epoch 15/50\n",
            "331/331 [==============================] - 196s 591ms/step - loss: 1.8060 - val_loss: 1.9842\n",
            "Epoch 16/50\n",
            "331/331 [==============================] - 195s 590ms/step - loss: 1.7876 - val_loss: 1.9810\n",
            "Epoch 17/50\n",
            "331/331 [==============================] - 189s 572ms/step - loss: 1.7688 - val_loss: 1.9791\n",
            "Epoch 18/50\n",
            "331/331 [==============================] - 195s 588ms/step - loss: 1.7520 - val_loss: 1.9816\n",
            "Epoch 19/50\n",
            "331/331 [==============================] - 192s 581ms/step - loss: 1.7358 - val_loss: 1.9809\n",
            "Epoch 00019: early stopping\n"
          ],
          "name": "stdout"
        }
      ]
    },
    {
      "cell_type": "markdown",
      "metadata": {
        "id": "PHpQPKLQvEQY"
      },
      "source": [
        "Plotting Lossnig \n",
        "loss during trainning ans placed d Testing i"
      ]
    },
    {
      "cell_type": "code",
      "metadata": {
        "id": "fQ3X7ZC-Y_tK",
        "colab": {
          "base_uri": "https://localhost:8080/",
          "height": 265
        },
        "outputId": "b90ec82b-2635-45c4-e918-24216dcb0bdb"
      },
      "source": [
        "from matplotlib import pyplot\n",
        "pyplot.plot(history.history['loss'], label='train')\n",
        "pyplot.plot(history.history['val_loss'], label='test')\n",
        "pyplot.legend()\n",
        "pyplot.show()"
      ],
      "execution_count": null,
      "outputs": [
        {
          "output_type": "display_data",
          "data": {
            "image/png": "[encoded data removed]",
            "text/plain": [
              "<Figure size 432x288 with 1 Axes>"
            ]
          },
          "metadata": {
            "tags": [],
            "needs_background": "light"
          }
        }
      ]
    },
    {
      "cell_type": "code",
      "metadata": {
        "id": "Q5ySrYTTZCTL"
      },
      "source": [
        "reverse_target_word_index=y_tokenizer.index_word\n",
        "reverse_source_word_index=x_tokenizer.index_word\n",
        "target_word_index=y_tokenizer.word_index"
      ],
      "execution_count": null,
      "outputs": []
    },
    {
      "cell_type": "code",
      "metadata": {
        "id": "wtoGay_mZJn-"
      },
      "source": [
        "# Encode the input sequence to get the feature vector\n",
        "encoder_model = Model(inputs=encoder_inputs,outputs=[encoder_outputs, state_h, state_c])\n",
        "\n",
        "# Decoder setup\n",
        "# Below tensors will hold the states of the previous time step\n",
        "decoder_state_input_h = Input(shape=(latent_dim,))\n",
        "decoder_state_input_c = Input(shape=(latent_dim,))\n",
        "decoder_hidden_state_input = Input(shape=(max_text_len,latent_dim))\n",
        "\n",
        "# Get the embeddings of the decoder sequence\n",
        "dec_emb2= dec_emb_layer(decoder_inputs) \n",
        "# To predict the next word in the sequence, set the initial states to the states from the previous time step\n",
        "decoder_outputs2, state_h2, state_c2 = decoder_lstm(dec_emb2, initial_state=[decoder_state_input_h, decoder_state_input_c])\n",
        "\n",
        "#attention inference\n",
        "attn_out_inf, attn_states_inf = attn_layer([decoder_hidden_state_input, decoder_outputs2])\n",
        "decoder_inf_concat = Concatenate(axis=-1, name='concat')([decoder_outputs2, attn_out_inf])\n",
        "\n",
        "# A dense softmax layer to generate prob dist. over the target vocabulary\n",
        "decoder_outputs2 = decoder_dense(decoder_inf_concat) \n",
        "\n",
        "# Final decoder model\n",
        "decoder_model = Model(\n",
        "    [decoder_inputs] + [decoder_hidden_state_input,decoder_state_input_h, decoder_state_input_c],\n",
        "    [decoder_outputs2] + [state_h2, state_c2])\n"
      ],
      "execution_count": null,
      "outputs": []
    },
    {
      "cell_type": "code",
      "metadata": {
        "id": "3VHbbiraOnZ-"
      },
      "source": [
        ""
      ],
      "execution_count": null,
      "outputs": []
    },
    {
      "cell_type": "code",
      "metadata": {
        "id": "4R15ExdCZQv9"
      },
      "source": [
        "def decode_sequence(input_seq):\n",
        "    # Encode the input as state vectors.\n",
        "    e_out, e_h, e_c = encoder_model.predict(input_seq)\n",
        "    \n",
        "    # Generate empty target sequence of length 1.\n",
        "    target_seq = np.zeros((1,1))\n",
        "    \n",
        "    # Populate the first word of target sequence with the start word.\n",
        "    target_seq[0, 0] = target_word_index['sostok']\n",
        "\n",
        "    stop_condition = False\n",
        "    decoded_sentence = ''\n",
        "    while not stop_condition:\n",
        "      \n",
        "        output_tokens, h, c = decoder_model.predict([target_seq] + [e_out, e_h, e_c])\n",
        "\n",
        "        # Sample a token\n",
        "        sampled_token_index = np.argmax(output_tokens[0, -1, :])\n",
        "        sampled_token = reverse_target_word_index[sampled_token_index]\n",
        "        \n",
        "        if(sampled_token!='eostok'):\n",
        "            decoded_sentence += ' '+sampled_token\n",
        "\n",
        "        # Exit condition: either hit max length or find stop word.\n",
        "        if (sampled_token == 'eostok'  or len(decoded_sentence.split()) >= (max_summary_len-1)):\n",
        "            stop_condition = True\n",
        "\n",
        "        # Update the target sequence (of length 1).\n",
        "        target_seq = np.zeros((1,1))\n",
        "        target_seq[0, 0] = sampled_token_index\n",
        "\n",
        "        # Update internal states\n",
        "        e_h, e_c = h, c\n",
        "\n",
        "    return decoded_sentence\n"
      ],
      "execution_count": null,
      "outputs": []
    },
    {
      "cell_type": "code",
      "metadata": {
        "id": "XzlgFV70ZT0M"
      },
      "source": [
        "def seq2summary(input_seq):\n",
        "    newString=''\n",
        "    for i in input_seq:\n",
        "        if((i!=0 and i!=target_word_index['sostok']) and i!=target_word_index['eostok']):\n",
        "            newString=newString+reverse_target_word_index[i]+' '\n",
        "    return newString\n",
        "\n",
        "def seq2text(input_seq):\n",
        "    newString=''\n",
        "    for i in input_seq:\n",
        "        if(i!=0):\n",
        "            newString=newString+reverse_source_word_index[i]+' '\n",
        "    return newString"
      ],
      "execution_count": null,
      "outputs": []
    },
    {
      "cell_type": "code",
      "metadata": {
        "id": "kpSt6D2xZXGi",
        "colab": {
          "base_uri": "https://localhost:8080/",
          "height": 1000
        },
        "outputId": "c418b8fb-0517-4380-a57b-ee2c2bd0f333"
      },
      "source": [
        "for i in range(700,800):\n",
        "    print(\"Review:\",seq2text(x_tr[i]))\n",
        "    print(\"Original summary:\",seq2summary(y_tr[i]))\n",
        "    print(\"Predicted summary:\",decode_sequence(x_tr[i].reshape(1,max_text_len)))\n",
        "    print(\"\\n\")"
      ],
      "execution_count": null,
      "outputs": [
        {
          "output_type": "stream",
          "text": [
            "Review: flavored coffees superior folgers gourmet selections creme brulee one really quite good half price coffee marginally better since product hard find neck woods pleased amazon offering \n",
            "Original summary: really good flavored coffee at bargain price \n",
            "Predicted summary:  great coffee\n",
            "\n",
            "\n",
            "Review: tried lot taco seasonings looking something complex flavor usual delicious \n",
            "Original summary: the best \n",
            "Predicted summary:  great flavor\n",
            "\n",
            "\n",
            "Review: soup good best ever feeling well great drink light stomach good filler meals good sandwiches \n",
            "Original summary: good soup \n",
            "Predicted summary:  great soup\n",
            "\n",
            "\n",
            "Review: tea absolutely delicious green tea tastes like grass sweet flavor cherry blossoms loose tea always sold coffee bean excited find online resealable packs great go long way \n",
            "Original summary: best green tea around \n",
            "Predicted summary:  delicious\n",
            "\n",
            "\n",
            "Review: important product need special feline friend picky want picky cat comes routine super scoop arm hammer cat likes \n",
            "Original summary: what cats need and like \n",
            "Predicted summary:  my cats love it\n",
            "\n",
            "\n",
            "Review: cookies chewy fudge center even last day house yummy reminds soft batch cookies \n",
            "Original summary: yummy \n",
            "Predicted summary:  great cookies\n",
            "\n",
            "\n",
            "Review: awesome unlike regular honey deserves food category waste tea eat right jar spoonful time \n",
            "Original summary: new type of food \n",
            "Predicted summary:  the best\n",
            "\n",
            "\n",
            "Review: bucks soda kidding buy wegman bucks rip would anyone waste money \n",
            "Original summary: overpriced \n",
            "Predicted summary:  overpriced\n",
            "\n",
            "\n",
            "Review: curious would stack higher end brand actually think better \n",
            "Original summary: yummy \n",
            "Predicted summary:  good\n",
            "\n",
            "\n",
            "Review: good drink open three ways open use drill cap use knife saw neck bottle \n",
            "Original summary: impossible to open \n",
            "Predicted summary:  good product\n",
            "\n",
            "\n",
            "Review: dog loved loved price alot cost effective buying individual packs local grocer \n",
            "Original summary: tasty treats \n",
            "Predicted summary:  dog loves them\n",
            "\n",
            "\n",
            "Review: popcorn good famous orville redenbacher jolly best named store brands deal nearly expensive brands tried first time almost every kernel popped fluffy well highly recommended buy \n",
            "Original summary: best price for popcorn \n",
            "Predicted summary:  great taste\n",
            "\n",
            "\n",
            "Review: oatmeal far gluten free please remove gluten free list people may oatmeal gluten free \n",
            "Original summary: oatmeal gluten \n",
            "Predicted summary:  gluten free\n",
            "\n",
            "\n",
            "Review: mood fruit price good pass first hooked almost silky texture adds enjoyment ordered second case plan order regularly check think disappointed either \n",
            "Original summary: like drinking peach \n",
            "Predicted summary:  delicious\n",
            "\n",
            "\n",
            "Review: wow hickory smoked jerkey sticks incredibly salty could even eat half stick different people try problem terrible tastes like dumping salt mouth avoid costs \n",
            "Original summary: hickory smoked way too salty \n",
            "Predicted summary:  not the best\n",
            "\n",
            "\n",
            "Review: going go back traditional coffee maker found pods strong enjoy flavor coffee \n",
            "Original summary: real cup of coffee \n",
            "Predicted summary:  good coffee\n",
            "\n",
            "\n",
            "Review: tried many kinds glenny soy crisps find one bit sweet taste prefer onion garlic ones much satisfying snack like sweet snacks would good choice \n",
            "Original summary: bit too sweet for my taste \n",
            "Predicted summary:  good snack\n",
            "\n",
            "\n",
            "Review: take one every morning breakfast get little energy burst without jittery feeling much caffeine benefits green tea offer staple home \n",
            "Original summary: great for and energy \n",
            "Predicted summary:  great for breakfast\n",
            "\n",
            "\n",
            "Review: actually surprised whole grain multi whole grain mix tastes good looks similar regular buttermilk pancake mix serve neighborhood kid eats wants time \n",
            "Original summary: amazingly good \n",
            "Predicted summary:  great for gluten free baking\n",
            "\n",
            "\n",
            "Review: since hansen natural sodas standard sodas energy version quite similar energy drinks natural ingredients perfect balance jittery rush sudden crash \n",
            "Original summary: hansen quality product \n",
            "Predicted summary:  great product\n",
            "\n",
            "\n",
            "Review: know herb tasty great combination like licorice flavors tea great reap great benefits licorice root without tasting really help symptoms drinking prevention worked great well cannot beat shipping price amazon \n",
            "Original summary: delicious \n",
            "Predicted summary:  great product\n",
            "\n",
            "\n",
            "Review: used product year old lab past days hoping additional similar joint improvement saw rx improvement forthcoming use oz container consumed visible sign movement improvement \n",
            "Original summary: liquid health glucosamine with \n",
            "Predicted summary:  great for\n",
            "\n",
            "\n",
            "Review: unless reading something wrong product purchased significantly cheaper price ordering directly tassimo com \n",
            "Original summary: price \n",
            "Predicted summary:  overpriced\n",
            "\n",
            "\n",
            "Review: strong dark intense strong enough man mellow enough woman really good coffee bitter taste love good cream sweetner watered taste plain wish made decaf could drink \n",
            "Original summary: good cuppa joe \n",
            "Predicted summary:  smooth and smooth\n",
            "\n",
            "\n",
            "Review: wife drinking tea years truly best tea bag found prices extraordinary could recommend \n",
            "Original summary: morning tea part \n",
            "Predicted summary:  best tea ever\n",
            "\n",
            "\n",
            "Review: two orders arrived dented worse others regardless poor shipping also destroyed items weight cans oatmeal best encourage like oatmeal try eating oatmeal many years \n",
            "Original summary: dented but delicious \n",
            "Predicted summary:  dented cans\n",
            "\n",
            "\n",
            "Review: favorite coffee couple years used buy lb bags costco happy find kcups keurig brewer also love eliminated plastic cup portion eliminating plastic go landfills \n",
            "Original summary: my favorite coffee \n",
            "Predicted summary:  great coffee\n",
            "\n",
            "\n",
            "Review: sesame seeds add delicious touch traditional pretzel stick good product good buy \n",
            "Original summary: sesame pretzels yum \n",
            "Predicted summary:  delicious\n",
            "\n",
            "\n",
            "Review: keebler olive oil crackers taste ok waste money broken pieces \n",
            "Original summary: crackers \n",
            "Predicted summary:  not as good as the original\n",
            "\n",
            "\n",
            "Review: prepare cup twinings ginger tea every morning helps settle tummy mind glad found \n",
            "Original summary: love my morning ginger tea \n",
            "Predicted summary:  great tea\n",
            "\n",
            "\n",
            "Review: love chuckles temptation buy bulk better judgement recently know surprised discover huge chuckles urge yet \n",
            "Original summary: great candy box \n",
            "Predicted summary:  great snack\n",
            "\n",
            "\n",
            "Review: give star taste star price really costs much recently purchased mini food processor make using shredded coconut cocoa \n",
            "Original summary: delicious but pricey \n",
            "Predicted summary:  good value\n",
            "\n",
            "\n",
            "Review: great product use grilling contains salt adds great flavor food cannot find supermarkets seems dont carry grilling blends \n",
            "Original summary: mrs dash \n",
            "Predicted summary:  great product\n",
            "\n",
            "\n",
            "Review: able get bottle relay life food sale best juice ever \n",
            "Original summary: fantastic \n",
            "Predicted summary:  great product\n",
            "\n",
            "\n",
            "Review: worth buying tastes like alcohol chocolate taste smells faintly chocolate worth using wanted increase chocolate flavor protein shakes without adding carbs purchase useless \n",
            "Original summary: tasteless \n",
            "Predicted summary:  not good\n",
            "\n",
            "\n",
            "Review: placed order amazon orginally sent wrong flavored product received banana let amazon know without hesitation sent purple pack without charge enjoyed flavors love crunch great traveling \n",
            "Original summary: nice snacking \n",
            "Predicted summary:  great deal\n",
            "\n",
            "\n",
            "Review: heard dog chews friend dog loves seems really clean teeth amazon price beat vets charging delivered door would highly recommend chews dog \n",
            "Original summary: oral hygiene chews \n",
            "Predicted summary:  great product\n",
            "\n",
            "\n",
            "Review: ok sounds crazy know heard baby food diet figured whats loose food tastes good im sure baby like hahaha \n",
            "Original summary: got this for diet tried \n",
            "Predicted summary:  not my baby loves it\n",
            "\n",
            "\n",
            "Review: originally found dressing wal mart quit carrying trying avoid soy products order though amazon case time gone many many cases yummy \n",
            "Original summary: my favorite dressing \n",
            "Predicted summary:  great dressing\n",
            "\n",
            "\n",
            "Review: bad tasting tea actually seem help appetite good value money \n",
            "Original summary: wuyi tea \n",
            "Predicted summary:  good tea\n",
            "\n",
            "\n",
            "Review: great price grade maple bought lemonade diet found good last drop \n",
            "Original summary: great price \n",
            "Predicted summary:  great syrup\n",
            "\n",
            "\n",
            "Review: wow stuff great use instead butter bread baked potatoes also use make chocolate great skin moisturizer definitely order \n",
            "Original summary: the best \n",
            "Predicted summary:  great bread\n",
            "\n",
            "\n",
            "Review: tried several brands probably favorite terms crispiness salt content would hesitate call spicy price outrageous packets small difficult separate unless want cut apart scissors still tasty \n",
            "Original summary: flavor but pricey and not very spicy \n",
            "Predicted summary:  great taste but\n",
            "\n",
            "\n",
            "Review: dogs love treats glad give something good beg worries might put another country \n",
            "Original summary: yummy treats \n",
            "Predicted summary:  dogs love them\n",
            "\n",
            "\n",
            "Review: lingonberries tasty hard find locally first door county wi swedish crepes \n",
            "Original summary: different delectable \n",
            "Predicted summary:  great product\n",
            "\n",
            "\n",
            "Review: popcorn great like pop stove top pops full tender plenty last long time freeze keep extended period enjoy every sunday night \n",
            "Original summary: great popcorn \n",
            "Predicted summary:  great popcorn\n",
            "\n",
            "\n",
            "Review: received think mistake system \n",
            "Original summary: not pack of four beware \n",
            "Predicted summary:  not what thought\n",
            "\n",
            "\n",
            "Review: two bichons absolutely loved gave four stars wish price lower two dogs one package last long one day \n",
            "Original summary: my dogs loved these \n",
            "Predicted summary:  my dogs love these\n",
            "\n",
            "\n",
            "Review: big juicy sweet best raisins cold cereal eating bag \n",
            "Original summary: my favorite raisins \n",
            "Predicted summary:  delicious\n",
            "\n",
            "\n",
            "Review: goji berries fresh taste good use brew tea eat handful snack \n",
            "Original summary: fresh and good \n",
            "Predicted summary:  great product\n",
            "\n",
            "\n",
            "Review: fish driven cat vs chicken beef products absolutely loved keep wrapped something would let smell away reach could smell everything even though would ripped anything get \n",
            "Original summary: cats favorite treat \n",
            "Predicted summary:  cat food\n",
            "\n",
            "\n",
            "Review: tea delicious strong cinnamon taste kinda tastes like root beer drinking months feel difference energy levels husbands blood pressure normal \n",
            "Original summary: awesome \n",
            "Predicted summary:  great tea\n",
            "\n",
            "\n",
            "Review: pasta best tried soggy mushy one would know eating gluten free try like \n",
            "Original summary: the greatest yet \n",
            "Predicted summary:  best pasta ever\n",
            "\n",
            "\n",
            "Review: provide hours energy crash end jitters boost \n",
            "Original summary: does what it says it does \n",
            "Predicted summary:  energy\n",
            "\n",
            "\n",
            "Review: bought yesterday making impromptu wow stuff great reviewer said tomatoey mild got wal mart decided see could get bulk ordering pack love salsa best store bought tasted \n",
            "Original summary: sooo good \n",
            "Predicted summary:  best ever\n",
            "\n",
            "\n",
            "Review: unfortunately local store carries small cans yuban order large ones online far best tasting canned coffee \n",
            "Original summary: best canned coffee available \n",
            "Predicted summary:  great coffee\n",
            "\n",
            "\n",
            "Review: thanks great treat dog well visitors truly wonderful item \n",
            "Original summary: great treat for dogs \n",
            "Predicted summary:  great product\n",
            "\n",
            "\n",
            "Review: purchased different licorice order stock ordered one good little harder chew intense flavor must difference shape since brand \n",
            "Original summary: ok licorice \n",
            "Predicted summary:  great licorice\n",
            "\n",
            "\n",
            "Review: cats love temptations treats much beg one cat started tap knee wanted treats taught others knee favorite flavor chicken \n",
            "Original summary: cats crazy for temptations \n",
            "Predicted summary:  my cats love these\n",
            "\n",
            "\n",
            "Review: grew getting jelly rings dept store candy counters increasingly hard find ordered hoping would dark chocolate even taste little old stale raspberry filling sweet expected either \n",
            "Original summary: not the jelly rings grew up with \n",
            "Predicted summary:  not worth the money\n",
            "\n",
            "\n",
            "Review: look like typical sugar plum jellies actually grape flavored would assume would sugar plum flavor taste like cheap kool aid yummy jelly belly ones cannot seem find amazon \n",
            "Original summary: not what ordered \n",
            "Predicted summary:  not what expected\n",
            "\n",
            "\n",
            "Review: stores carry forget twix things craving first one stores carried fear discontinued end rehab \n",
            "Original summary: delicious \n",
            "Predicted summary:  the best\n",
            "\n",
            "\n",
            "Review: outstanding marinade chicken wings friend mine potluck every day barbecue without doubt popular offering highly recommended never tried chicken breast legs thighs highly recommend using marinade grilled chicken wings \n",
            "Original summary: family favorite marinade \n",
            "Predicted summary:  best marinade ever\n",
            "\n",
            "\n",
            "Review: since poisoned msg must avoid com net gum allows maintain fresh breath tasty lasting price also good \n",
            "Original summary: safe aspartame natural flavor free gum \n",
            "Predicted summary:  great product\n",
            "\n",
            "\n",
            "Review: cat follows around meows constantly even touch bag treats liked flavors bought like resealable bag fact treats smelly \n",
            "Original summary: nom nom cat treats \n",
            "Predicted summary:  cat loves them\n",
            "\n",
            "\n",
            "Review: wholesome sweeteners organic raw blue agave ounce bottles check one good diabetics everyone else none spenda artificial stuff tastes great \n",
            "Original summary: wholesome sweetners agave \n",
            "Predicted summary:  agave nectar\n",
            "\n",
            "\n",
            "Review: gotten olives two different occasions come three flavor often used martini though great treat merit \n",
            "Original summary: true treat even without martini \n",
            "Predicted summary:  great olives\n",
            "\n",
            "\n",
            "Review: absolutely disgusting expecting normal water taste expecting taste metal either wanted like \n",
            "Original summary: the glass is half empty for you \n",
            "Predicted summary:  not bad\n",
            "\n",
            "\n",
            "Review: ordered two packaged together would say half size default picture product page however still nice plants leaf broken bent matter much plants porch well would recommend \n",
            "Original summary: nice plants \n",
            "Predicted summary:  nice plants\n",
            "\n",
            "\n",
            "Review: eat breakfast every day love right combination grains oats raisins never gets old easy make good could want \n",
            "Original summary: love this stuff \n",
            "Predicted summary:  great cereal\n",
            "\n",
            "\n",
            "Review: fantastic cheaper solution buying bags time problem arrived hot day melted together still good \n",
            "Original summary: would you like jelly baby \n",
            "Predicted summary:  great\n",
            "\n",
            "\n",
            "Review: thank carrying product moved pa fl retail store carries particular flavor hamburger helper big huge kudos amazon \n",
            "Original summary: thank you \n",
            "Predicted summary:  great product\n",
            "\n",
            "\n",
            "Review: thought good way make mild coffee subtle kick spices pumpkin spice overpowering lost coffee flavor would get every \n",
            "Original summary: not too strong \n",
            "Predicted summary:  pumpkin spice\n",
            "\n",
            "\n",
            "Review: many cans size cans poor description \n",
            "Original summary: quantity \n",
            "Predicted summary:  not good\n",
            "\n",
            "\n",
            "Review: teas fresh flavorful loved idea sampler new tea drinker good cannot make mind packaging well done arrived earlier expected thank \n",
            "Original summary: excellent \n",
            "Predicted summary:  great tea\n",
            "\n",
            "\n",
            "Review: love expensive buy one buy came contents crumbs \n",
            "Original summary: spot \n",
            "Predicted summary:  great product but\n",
            "\n",
            "\n",
            "Review: love creme savers hard candy wish would bring back butter toffee cream flavor best many flavors discontinued \n",
            "Original summary: creme savers are the best \n",
            "Predicted summary:  the best\n",
            "\n",
            "\n",
            "Review: kids enjoy cocktail ii buy send boy oberto cocktail pepperoni sticks count bag \n",
            "Original summary: oberto are the best \n",
            "Predicted summary:  not good\n",
            "\n",
            "\n",
            "Review: husband loves starbucks sumatra cup samples bold coffee keurig tried far favorite right amount flavor strength taste \n",
            "Original summary: bold and full of flavor good flavor \n",
            "Predicted summary:  great coffee\n",
            "\n",
            "\n",
            "Review: give quantity cans one purchase sure one cost much thank \n",
            "Original summary: cannot rate as have not purchased \n",
            "Predicted summary:  good product\n",
            "\n",
            "\n",
            "Review: give regular pb due intolerance tears sunbutter arrived love switched long ago \n",
            "Original summary: great alternative to regular peanut butter \n",
            "Predicted summary:  great product\n",
            "\n",
            "\n",
            "Review: timothy hazelnut decaf best great flavor smooth wonderful everyone loves thanks great decaf hazelnut love cups drink coffee love \n",
            "Original summary: best hazelnut coffee \n",
            "Predicted summary:  great coffee\n",
            "\n",
            "\n",
            "Review: grew using seasoning steak pretty much everything could longer find stores ordered case amazon happy nice spice flavor highly recommend \n",
            "Original summary: love this seasoning \n",
            "Predicted summary:  great seasoning\n",
            "\n",
            "\n",
            "Review: using vinegar small amount beef stock simmer together till reduces add unsalted butter oz little time add pre cooked warm steak couple minutes delicious \n",
            "Original summary: the perfect for steak \n",
            "Predicted summary:  great for cooking\n",
            "\n",
            "\n",
            "Review: first idea right mind trying sell pudding dollars bought walmart dollar second nothing new product know expecting taste like basically chocolate vanilla chocolate pudding \n",
            "Original summary: it is just chocolate and vanilla \n",
            "Predicted summary:  not worth it\n",
            "\n",
            "\n",
            "Review: dog loves raw hide type product give nasty smell \n",
            "Original summary: great for sensitive dogs \n",
            "Predicted summary:  dog loves them\n",
            "\n",
            "\n",
            "Review: got sample first immediately tried product delicious banana flavor nutty ness actually went bought box wow even better warmed healthy lots protein keeps full morning love bar \n",
            "Original summary: so tasty \n",
            "Predicted summary:  delicious\n",
            "\n",
            "\n",
            "Review: great price really love flavor need add anything cappuccino enhance flavor really enjoyable anytime drink house hold favorite \n",
            "Original summary: french vanilla cappuccino \n",
            "Predicted summary:  great flavor\n",
            "\n",
            "\n",
            "Review: usually time look local starbucks traveling convenient tastes delicious good price \n",
            "Original summary: great coffee on the go \n",
            "Predicted summary:  great taste\n",
            "\n",
            "\n",
            "Review: guy loves brand hot sauce got pack gift ok like jalapeno got good taste two cannot even eat taste hot would rather shots tabasco sauce keep tongue thanks \n",
            "Original summary: super hot for no reason \n",
            "Predicted summary:  not bad\n",
            "\n",
            "\n",
            "Review: nothing really special discs coffee strong fresh roasty flavor brewed definitely convenient way brew coffee office want deal mess coffee beans \n",
            "Original summary: basic cup of joe \n",
            "Predicted summary:  good coffee\n",
            "\n",
            "\n",
            "Review: happy order item need without hassle going store \n",
            "Original summary: delicious and \n",
            "Predicted summary:  great product\n",
            "\n",
            "\n",
            "Review: raisins cranberries nice chewy nuts crunchy great combination goodness mix mine fat free vanilla yogurt blueberries strawberries nice light breakfast \n",
            "Original summary: yummy crunchy you will love it \n",
            "Predicted summary:  delicious\n",
            "\n",
            "\n",
            "Review: like coffee pods lot drink every morning tried variety yet enjoy continue buy prefer coffee available home good product \n",
            "Original summary: senseo douwe egberts medium roast coffee pods \n",
            "Predicted summary:  great coffee\n",
            "\n",
            "\n",
            "Review: dogs love treats buying vet double price great deal great service \n",
            "Original summary: great product great deal \n",
            "Predicted summary:  great product\n",
            "\n",
            "\n",
            "Review: product waste money bitter bitter salty salty save money peaches instead libby apricot halves pear juice concentrate ounce cans \n",
            "Original summary: yuck \n",
            "Predicted summary:  terrible\n",
            "\n",
            "\n",
            "Review: bought dad gifted coffee machine christmas likes really sweet cappuccino buy gas station based sounds thought would work coffee sweet still tastes good beware want sweet coffee \n",
            "Original summary: not very sweet \n",
            "Predicted summary:  not as good as the\n",
            "\n",
            "\n",
            "Review: far favorite olive excellent dips dressings \n",
            "Original summary: best olive oil ever \n",
            "Predicted summary:  best olive oil\n",
            "\n",
            "\n",
            "Review: great deal much cheaper pet store dog loves helps breath smell better used terrible gotten better eating wish lasted longer chew one minutes \n",
            "Original summary: great \n",
            "Predicted summary:  great product\n",
            "\n",
            "\n",
            "Review: glad able order favorite raisin bran cannot always find grocery stores key availability preference brand \n",
            "Original summary: cereal review \n",
            "Predicted summary:  great cereal\n",
            "\n",
            "\n"
          ],
          "name": "stdout"
        }
      ]
    }
  ]
}